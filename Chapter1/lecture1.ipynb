{
 "cells": [
  {
   "cell_type": "markdown",
   "metadata": {},
   "source": [
    "# Mathematics for Artificial Intelligence\n",
    "\n",
    "## Lecture1. What is Vector?\n",
    "\n",
    "### Vector\n",
    ": 숫자를 원소로 가지는 list or array  \n",
    "\n",
    "- 공간에서 한 점을 나타냄  \n",
    "\n",
    "    ex) 1차원 => 수직선에 놓여있는 한 점  \n",
    "    ex) 2차원 => 좌표평면에 놓여있는 한 점  \n",
    "    ex) n차원 => n개의 좌표평면에 놓여있는 한 점  \n",
    "\n",
    "\n",
    "- 벡터는 원점으로부터 상대적 위치를 표현  \n",
    "=> 화살표 모양  \n",
    "\n",
    "- 벡터의 숫자를 곱해주면 길이만 변함  \n",
    "=> 이때 이것을 스칼라 곱이라 부름  \n",
    "    - 1보다 크면 길이 증가\n",
    "    - 1보다 작으면 길이 감소\n",
    "    - But, 0 보다 작으면 반대 방향이 됨  \n",
    "\n",
    "\n",
    "\n",
    "\n"
   ]
  },
  {
   "cell_type": "code",
   "execution_count": 1,
   "metadata": {},
   "outputs": [
    {
     "data": {
      "text/plain": [
       "[1, 7, 2]"
      ]
     },
     "execution_count": 1,
     "metadata": {},
     "output_type": "execute_result"
    }
   ],
   "source": [
    "import numpy as np\n",
    "\n",
    "# 행 벡터\n",
    "x = [1, 7, 2]\n",
    "x"
   ]
  },
  {
   "cell_type": "code",
   "execution_count": 3,
   "metadata": {},
   "outputs": [
    {
     "data": {
      "text/plain": [
       "array([1, 7, 2])"
      ]
     },
     "execution_count": 3,
     "metadata": {},
     "output_type": "execute_result"
    }
   ],
   "source": [
    "# 행 벡터\n",
    "x = np.array([1, 7, 2])\n",
    "x"
   ]
  },
  {
   "cell_type": "markdown",
   "metadata": {},
   "source": [
    "### 벡터의 차원\n",
    ": 벡터안의 숫자의 개수"
   ]
  },
  {
   "cell_type": "markdown",
   "metadata": {},
   "source": [
    "### 벡터의 계산\n",
    "\n",
    "벡터끼리 같은 모양을 가지면 덧셈, 뺄셈 계산 가능  \n",
    "\n",
    "벡터끼리 같은 모양을 가지면 성분곱(Hadamard product) 계산 가능  \n",
    "\n",
    "두 벡터의 덧셈은 다른 벡터로부터 상대적 이동을 표현"
   ]
  },
  {
   "cell_type": "code",
   "execution_count": 6,
   "metadata": {},
   "outputs": [],
   "source": [
    "x = np.array([1,7,2])\n",
    "y = np.array([5,2,1])"
   ]
  },
  {
   "cell_type": "code",
   "execution_count": 7,
   "metadata": {},
   "outputs": [
    {
     "data": {
      "text/plain": [
       "array([6, 9, 3])"
      ]
     },
     "execution_count": 7,
     "metadata": {},
     "output_type": "execute_result"
    }
   ],
   "source": [
    "x + y"
   ]
  },
  {
   "cell_type": "code",
   "execution_count": 8,
   "metadata": {},
   "outputs": [
    {
     "data": {
      "text/plain": [
       "array([-4,  5,  1])"
      ]
     },
     "execution_count": 8,
     "metadata": {},
     "output_type": "execute_result"
    }
   ],
   "source": [
    "x - y"
   ]
  },
  {
   "cell_type": "code",
   "execution_count": 9,
   "metadata": {},
   "outputs": [
    {
     "data": {
      "text/plain": [
       "array([ 5, 14,  2])"
      ]
     },
     "execution_count": 9,
     "metadata": {},
     "output_type": "execute_result"
    }
   ],
   "source": [
    "x * y"
   ]
  },
  {
   "cell_type": "markdown",
   "metadata": {},
   "source": [
    "### 벡터의 노름\n",
    ": 원점에서부터의 거리\n",
    "\n",
    "- || . || 기호 : 노름\n",
    "- ⛔ 임의의 차원 d에 대해 성립\n",
    "\n",
    "### L1\n",
    ": 각 성분의 변화량의 절대값을 모두 더함\n",
    "\n",
    "$|| X ||_1 = \\sum_{i=1}^d |x_i|$\n",
    "\n",
    "\n",
    "### L2\n",
    ": 피타고라스 정리를 이용해 유클리드 거리를 계산\n",
    "\n",
    "-  ```np.linalg.norm 을 이용해도 구현 가능 ``` \n",
    "\n",
    "$|| X ||_2 = \\sqrt{\\sum_{i=1}^d |x_i|^2}$\n",
    "\n",
    "x = [x1, x2, ... xd]"
   ]
  },
  {
   "cell_type": "code",
   "execution_count": 11,
   "metadata": {},
   "outputs": [],
   "source": [
    "def l1_norm(x):\n",
    "    x_norm = np.abs(x)\n",
    "    x_norm = np.sum(x_norm)\n",
    "    return x_norm"
   ]
  },
  {
   "cell_type": "code",
   "execution_count": 12,
   "metadata": {},
   "outputs": [],
   "source": [
    "def l2_norm(x):\n",
    "    x_norm = x * x\n",
    "    x_norm = np.sum(x_norm)\n",
    "    x_norm = np.sqrt(x_norm)\n",
    "    return x_norm"
   ]
  },
  {
   "cell_type": "markdown",
   "metadata": {},
   "source": [
    "### Why L1, L2 다르게 정의?\n",
    "\n",
    "- 노름의 종류에 따라 기하학적 성질이 달라짐\n",
    "- 머신 러닝에서는 각 성질들이 필요할 때가 있으므로 둘 다 사용\n",
    "\n",
    "![difference](https://ifh.cc/g/CMK8mb.png)\n",
    "\n",
    "\n",
    "### 두 벡터 사이의 거리\n",
    "- L1, L2 노름을 이용해 두 벡터 사이의 거리 계산 가능\n",
    "- 두 벡터 사이의 거리를 계산할 때는 벡터의 뺄셈을 이용\n",
    "- 뺄셈을 거꾸로 해도 거리는 동일\n",
    "\n",
    "![distance](https://ifh.cc/g/MTow5k.png)\n",
    "\n",
    "\n",
    "### 두 벡터 사이의 각도\n",
    "⚠ L2노름만 사용 가능!\n",
    "\n",
    "- 제 2 코사인 법칙에 의해 두 벡터 사이의 각도 계산 가능\n",
    "- 내적을 이용해서 분자 쉽게 계산 가능\n",
    "\n",
    "![cos](https://ifh.cc/g/WzZAcW.png)  \n",
    "![cos1](https://ifh.cc/g/BsHQsW.png)\n",
    "\n",
    "#### 내적 공식\n",
    "- np.inner 이용해서 계산 \n",
    "\n",
    "<x, y> = $\\sum_{i=1}^d x_i y_i$"
   ]
  },
  {
   "cell_type": "code",
   "execution_count": 14,
   "metadata": {},
   "outputs": [],
   "source": [
    "def angle(x,y):\n",
    "    v = np.inner(x,y)/(l2_norm(x) * l2_norm(y))\n",
    "    # 역 cos\n",
    "    theta = np.arccos(v)\n",
    "    return theta"
   ]
  },
  {
   "cell_type": "markdown",
   "metadata": {},
   "source": [
    "### 내적\n",
    "\n",
    "- 내적은 정사영(orthogonal projection)된 벡터의 길이와 관련\n",
    "- Proj(x)의 길이는 코사인 법칙에 의해 $||X||cos\\theta$\n",
    "\n",
    "\n",
    "![proj](https://ifh.cc/g/MKfcdf.png)\n",
    "\n",
    "Proj(x) : 벡터 y로 정사영된 벡터 x의 그림자\n",
    "\n",
    "\n",
    "내적은 정사영의 길이를 벡터 y의  길이 ||y||만큼 조정한 값\n",
    "- 내적은 두 벡터의 유사도(similarity)를 측정하는데 사용 가능\n",
    "\n",
    "![proj1](https://ifh.cc/g/Jx2X0J.png)"
   ]
  },
  {
   "cell_type": "markdown",
   "metadata": {},
   "source": [
    "## 행렬\n",
    ": 벡터를 원소로 가지는 2차원 배열\n",
    "\n",
    "- 행(row)과 열(column)이라는 인덱스를 가짐\n",
    "    - X = ($x_{ij}$)\n",
    "- numpy에서는 행(row)이 기본 단위\n",
    "- 행렬의 특정 행(열)을 고정하면 행(열)벡터라 부름"
   ]
  },
  {
   "cell_type": "code",
   "execution_count": 15,
   "metadata": {},
   "outputs": [],
   "source": [
    "x = np.array([[1,2,3],\n",
    "              [4,5,6],\n",
    "              [7,8,9]])"
   ]
  },
  {
   "cell_type": "code",
   "execution_count": null,
   "metadata": {},
   "outputs": [],
   "source": []
  }
 ],
 "metadata": {
  "kernelspec": {
   "display_name": "Python 3.10.4 ('ml')",
   "language": "python",
   "name": "python3"
  },
  "language_info": {
   "codemirror_mode": {
    "name": "ipython",
    "version": 3
   },
   "file_extension": ".py",
   "mimetype": "text/x-python",
   "name": "python",
   "nbconvert_exporter": "python",
   "pygments_lexer": "ipython3",
   "version": "3.10.4"
  },
  "orig_nbformat": 4,
  "vscode": {
   "interpreter": {
    "hash": "054003ddc8bb90967440df83eb0c4b5179a46b3dd7ffab730dd8d113d29b604c"
   }
  }
 },
 "nbformat": 4,
 "nbformat_minor": 2
}
