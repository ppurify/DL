{
 "cells": [
  {
   "cell_type": "markdown",
   "metadata": {},
   "source": [
    "# Mathematics for Artificial Intelligence\n",
    "\n",
    "## Lecture1. What is Vector?\n",
    "\n",
    "### Vector\n",
    ": 숫자를 원소로 가지는 list or array  \n",
    "\n",
    "- 공간에서 한 점을 나타냄  \n",
    "\n",
    "    ex) 1차원 => 수직선에 놓여있는 한 점  \n",
    "    ex) 2차원 => 좌표평면에 놓여있는 한 점  \n",
    "    ex) n차원 => n개의 좌표평면에 놓여있는 한 점  \n",
    "\n",
    "\n",
    "- 벡터는 원점으로부터 상대적 위치를 표현  \n",
    "=> 화살표 모양  \n",
    "\n",
    "- 벡터의 숫자를 곱해주면 길이만 변함  \n",
    "=> 이때 이것을 스칼라 곱이라 부름  \n",
    "    - 1보다 크면 길이 증가\n",
    "    - 1보다 작으면 길이 감소\n",
    "    - But, 0 보다 작으면 반대 방향이 됨  \n",
    "\n",
    "\n",
    "\n",
    "\n"
   ]
  },
  {
   "cell_type": "code",
   "execution_count": 1,
   "metadata": {},
   "outputs": [
    {
     "data": {
      "text/plain": [
       "[1, 7, 2]"
      ]
     },
     "execution_count": 1,
     "metadata": {},
     "output_type": "execute_result"
    }
   ],
   "source": [
    "import numpy as np\n",
    "\n",
    "# 행 벡터\n",
    "x = [1, 7, 2]\n",
    "x"
   ]
  },
  {
   "cell_type": "code",
   "execution_count": 3,
   "metadata": {},
   "outputs": [
    {
     "data": {
      "text/plain": [
       "array([1, 7, 2])"
      ]
     },
     "execution_count": 3,
     "metadata": {},
     "output_type": "execute_result"
    }
   ],
   "source": [
    "# 행 벡터\n",
    "x = np.array([1, 7, 2])\n",
    "x"
   ]
  },
  {
   "cell_type": "markdown",
   "metadata": {},
   "source": [
    "### 벡터의 차원\n",
    ": 벡터안의 숫자의 개수"
   ]
  },
  {
   "cell_type": "markdown",
   "metadata": {},
   "source": [
    "### 벡터의 계산\n",
    "\n",
    "벡터끼리 같은 모양을 가지면 덧셈, 뺄셈 계산 가능  \n",
    "\n",
    "벡터끼리 같은 모양을 가지면 성분곱(Hadamard product) 계산 가능  \n",
    "\n",
    "두 벡터의 덧셈은 다른 벡터로부터 상대적 이동을 표현"
   ]
  },
  {
   "cell_type": "code",
   "execution_count": 6,
   "metadata": {},
   "outputs": [],
   "source": [
    "x = np.array([1,7,2])\n",
    "y = np.array([5,2,1])"
   ]
  },
  {
   "cell_type": "code",
   "execution_count": 7,
   "metadata": {},
   "outputs": [
    {
     "data": {
      "text/plain": [
       "array([6, 9, 3])"
      ]
     },
     "execution_count": 7,
     "metadata": {},
     "output_type": "execute_result"
    }
   ],
   "source": [
    "x + y"
   ]
  },
  {
   "cell_type": "code",
   "execution_count": 8,
   "metadata": {},
   "outputs": [
    {
     "data": {
      "text/plain": [
       "array([-4,  5,  1])"
      ]
     },
     "execution_count": 8,
     "metadata": {},
     "output_type": "execute_result"
    }
   ],
   "source": [
    "x - y"
   ]
  },
  {
   "cell_type": "code",
   "execution_count": 9,
   "metadata": {},
   "outputs": [
    {
     "data": {
      "text/plain": [
       "array([ 5, 14,  2])"
      ]
     },
     "execution_count": 9,
     "metadata": {},
     "output_type": "execute_result"
    }
   ],
   "source": [
    "x * y"
   ]
  },
  {
   "cell_type": "markdown",
   "metadata": {},
   "source": [
    "### 벡터의 노름\n",
    ": 원점에서부터의 거리\n",
    "\n",
    "- || . || 기호 : 노름\n",
    "- ⛔ 임의의 차원 d에 대해 성립\n",
    "\n",
    "### L1\n",
    ": 각 성분의 변화량의 절대값을 모두 더함\n",
    "\n",
    "$|| X ||_1 = \\sum_{i=1}^d |x_i|$\n",
    "\n",
    "\n",
    "### L2\n",
    ": 피타고라스 정리를 이용해 유클리드 거리를 계산\n",
    "\n",
    "-  ```np.linalg.norm 을 이용해도 구현 가능 ``` \n",
    "\n",
    "$|| X ||_2 = \\sqrt{\\sum_{i=1}^d |x_i|^2}$\n",
    "\n",
    "x = [x1, x2, ... xd]"
   ]
  },
  {
   "cell_type": "code",
   "execution_count": 11,
   "metadata": {},
   "outputs": [],
   "source": [
    "def l1_norm(x):\n",
    "    x_norm = np.abs(x)\n",
    "    x_norm = np.sum(x_norm)\n",
    "    return x_norm"
   ]
  },
  {
   "cell_type": "code",
   "execution_count": 12,
   "metadata": {},
   "outputs": [],
   "source": [
    "def l2_norm(x):\n",
    "    x_norm = x * x\n",
    "    x_norm = np.sum(x_norm)\n",
    "    x_norm = np.sqrt(x_norm)\n",
    "    return x_norm"
   ]
  },
  {
   "cell_type": "markdown",
   "metadata": {},
   "source": [
    "### Why L1, L2 다르게 정의?\n",
    "\n",
    "- 노름의 종류에 따라 기하학적 성질이 달라짐\n",
    "- 머신 러닝에서는 각 성질들이 필요할 때가 있으므로 둘 다 사용\n",
    "\n",
    "![difference](https://ifh.cc/g/CMK8mb.png)\n",
    "\n",
    "\n",
    "### 두 벡터 사이의 거리\n",
    "- L1, L2 노름을 이용해 두 벡터 사이의 거리 계산 가능\n",
    "- 두 벡터 사이의 거리를 계산할 때는 벡터의 뺄셈을 이용\n",
    "- 뺄셈을 거꾸로 해도 거리는 동일\n",
    "\n",
    "![distance](https://ifh.cc/g/MTow5k.png)\n",
    "\n",
    "\n",
    "### 두 벡터 사이의 각도\n",
    "⚠ L2노름만 사용 가능!\n",
    "\n",
    "- 제 2 코사인 법칙에 의해 두 벡터 사이의 각도 계산 가능\n",
    "- 내적을 이용해서 분자 쉽게 계산 가능\n",
    "\n",
    "![cos](https://ifh.cc/g/WzZAcW.png)  \n",
    "![cos1](https://ifh.cc/g/BsHQsW.png)\n",
    "\n",
    "#### 내적 공식\n",
    "- np.inner 이용해서 계산 \n",
    "\n",
    "<x, y> = $\\sum_{i=1}^d x_i y_i$"
   ]
  },
  {
   "cell_type": "code",
   "execution_count": 14,
   "metadata": {},
   "outputs": [],
   "source": [
    "def angle(x,y):\n",
    "    v = np.inner(x,y)/(l2_norm(x) * l2_norm(y))\n",
    "    # 역 cos\n",
    "    theta = np.arccos(v)\n",
    "    return theta"
   ]
  },
  {
   "cell_type": "markdown",
   "metadata": {},
   "source": [
    "### 내적\n",
    "\n",
    "- 내적은 정사영(orthogonal projection)된 벡터의 길이와 관련\n",
    "- Proj(x)의 길이는 코사인 법칙에 의해 $||X||cos\\theta$\n",
    "\n",
    "\n",
    "![proj](https://ifh.cc/g/MKfcdf.png)\n",
    "\n",
    "Proj(x) : 벡터 y로 정사영된 벡터 x의 그림자\n",
    "\n",
    "\n",
    "내적은 정사영의 길이를 벡터 y의  길이 ||y||만큼 조정한 값\n",
    "- 내적은 두 벡터의 유사도(similarity)를 측정하는데 사용 가능\n",
    "\n",
    "![proj1](https://ifh.cc/g/Jx2X0J.png)"
   ]
  },
  {
   "cell_type": "markdown",
   "metadata": {},
   "source": [
    "## 행렬\n",
    ": 벡터를 원소로 가지는 2차원 배열\n",
    "\n",
    "- 행(row)과 열(column)이라는 인덱스를 가짐\n",
    "    - X = ($x_{ij}$)\n",
    "- numpy에서는 행(row)이 기본 단위 \n",
    "- 행렬의 특정 행(열)을 고정하면 행(열)벡터라 부름   \n",
    "- vector가 공간에서 한 점을 의미한다면 행렬은 여러 점들을 나타냄  \n",
    "- 행렬의 행벡터 $X_i$는 i번째 데이터를 의미  \n",
    "- 행렬의 $x_{ij}$는 i번째 데이터의 j번째 변수의 값을 말함"
   ]
  },
  {
   "cell_type": "code",
   "execution_count": 15,
   "metadata": {},
   "outputs": [],
   "source": [
    "x = np.array([[1,2,3],\n",
    "              [4,5,6],\n",
    "              [7,8,9]])"
   ]
  },
  {
   "cell_type": "markdown",
   "metadata": {},
   "source": [
    "### 전치 행렬 (transpose matrix)\n",
    ": 행과 열의 인덱스가 바뀐 행렬  \n",
    "\n",
    "- $X^T$ = ($x_{ji}$)"
   ]
  },
  {
   "cell_type": "markdown",
   "metadata": {},
   "source": [
    "### 행렬의 덧셈, 뺄셈, 성분곱, 스칼라곱\n",
    "- 벡터를 원소로 가지는 2차원 배열\n",
    "- 행렬끼리 같은 모양을 가지면 덧셈, 뺄셈 계산 가능\n",
    "- 성분곱과 스칼라곱은 벡터와 동일\n",
    "\n",
    "#### 덧셈, 뺄셈\n",
    "$X \\pm Y$ = $(x_{ij} + y_{ij})$  \n",
    "\n",
    "### 성분곱\n",
    "$X * Y$ = $(x_{ij} * y_{ij})$\n",
    "\n",
    "### 스칼라곱\n",
    ": 모든 성분에 똑같이 숫자를 곱해줌  \n",
    "$\\alpha X = (\\alpha x_{ij})$\n",
    "\n",
    "### 행렬 곱셈 (matrix multiplication)\n",
    ": i번째 행벡터와 j번째 열벡터 사이의 내적을 성분으로 가지는 행렬을 계산\n",
    " \n",
    "- 행렬곱은 X의 행의 개수와 Y의 열의 개수가 동일해야 함\n",
    "- numpy에선 @연산을 사용\n",
    "    - ex) X@Y\n",
    "\n",
    "$XY = (\\sum_k x_{ik} y_{kj})$\n",
    "\n",
    "### 행렬도 내적이 있을까?\n",
    "- np.inner은 i번째 행벡터와 j번째 행벡터 사잉의 내적을 성분으로 가지는 행렬을 계산  \n",
    "    => X의 행 개수와 $Y^T$의 행 개수가 동일해야 함\n",
    "\n",
    "- 수학에서 말하는 내적과는 다름\n",
    "- 수학에선 보통 $tr(XY^T)$을 내적으로 계산\n",
    "\n",
    "#### 🚫 행렬의 곱셈과 내적은 다름!!!"
   ]
  },
  {
   "cell_type": "code",
   "execution_count": 20,
   "metadata": {},
   "outputs": [],
   "source": [
    "X = np.array([[1,2,3],\n",
    "            [4,5,6],\n",
    "            [7,8,9]])\n",
    "\n",
    "\n",
    "Y = np.array([[1,2,3],\n",
    "             [4,5,6]])"
   ]
  },
  {
   "cell_type": "code",
   "execution_count": 21,
   "metadata": {},
   "outputs": [
    {
     "data": {
      "text/plain": [
       "array([[ 14,  32],\n",
       "       [ 32,  77],\n",
       "       [ 50, 122]])"
      ]
     },
     "execution_count": 21,
     "metadata": {},
     "output_type": "execute_result"
    }
   ],
   "source": [
    "np.inner(X, Y)"
   ]
  },
  {
   "cell_type": "markdown",
   "metadata": {},
   "source": [
    "### 행렬을 이해하는 방법\n",
    "\n",
    "- 행렬은 벡터공간에서 사용되는 연산자(operator)로 이해\n",
    "- 행렬곱을 통해 벡터를 다른 차원의 공간으로 보낼 수 있다  \n",
    "    Ex) m차원 -> n차원\n",
    "- 행렬곱을 통해 패턴을 추출할 수 있고 데이터 압축 가능\n",
    "- 모든 선형변환(linear transform)은 행렬곱으로 계산 가능\n",
    "\n",
    "### 역행렬\n",
    "- 어떤 행렬 A의 연산을 거꾸로 되돌리는 행렬을 역행렬(inverse matrix)이라 부르고 $A^{-1}$라 표기\n",
    "- 역행렬은 행과 열 숫자가 같고 \n",
    "- 행렬식(determinant)이 0이 아닌 경우에만 계산 가능\n",
    "    - 항등 행렬  \n",
    "        $AA^{-1} = A^{-1}A = I$  \n",
    "- 만일 역행렬 계산 불가능 -> 유사역행렬(pseudo-inverse) or 무어펜로즈(Moore-Penrose) 역행렬 $A^{+}$을 이용\n",
    "\n",
    "### 유사 역행렬 응용 \n",
    "#### 응용 1 : 연립 방정식\n",
    "- np.linalg.pinv를 이용하면 연립방정식의 해를 구할 수 있다  \n",
    "\n",
    "(n : 행의 개수 / m : 열의 개수)  \n",
    "\n",
    "$n \\geq m$ 인 경우  \n",
    ": 데이터가 변수 개수보다 많거나 같아야 함\n",
    "\n",
    "$A^+ = (A^TA)^-1A^T$   \n",
    "=> $A^+A = I$만 성립  \n",
    "\n",
    "#### 응용 2 : 선형회귀분석\n",
    "- np.linalg.pinv를 이용하면 데이터를 선형모델(linear model)로 해석 하는 선형회귀식 찾을 수 있다\n",
    "- 선형 회귀 분석은 X와 y가 주어진 상황에서 계수 $\\beta$를 찾아야 한다\n",
    "- 선형 회귀 분석은 연립 방정식과 달리 행이 더 크므로 방정식을 푸는 건 불가능  \n",
    "- 예측한 값과 실제 값 차이를 최소화\n",
    "- y절편 항을 직접 추가해야 함\n",
    "\n",
    "\n",
    "$n \\leq m$ 인 경우  \n",
    ": 식이 변수 개수보다 작거나 같아야 함  \n",
    "\n",
    "$A^+ = A^T(AA^T)^-1$   \n",
    "=> $AA^+ = I$만 성립  \n",
    "- 무어-펜로즈 역행렬을 이용하면 y에 근접하는 $\\hat{y}$ 찾기 가능\n",
    "\n",
    "![moore](https://ifh.cc/g/o5D4Dw.png)![moore1](https://ifh.cc/g/zTKCCs.png)\n",
    "\n",
    "- L2노름을 최소화하는 계수 베타를 찾으면 됨\n",
    "\n",
    "- sklearn의 LiniearRegression과 같은 결과를 가져올 수 있다 \n",
    "    - y절편을 자동으로 찾아서 추가해 줌\n",
    "\n",
    "\n",
    "```\n",
    "# Scikit Learn을 활용한 회귀분석\n",
    "from sklearn.linear_model import LinearRegression\n",
    "\n",
    "model = LinearRegression()\n",
    "model.fit(X,y)\n",
    "y_test = model.predict(x_test)\n",
    "\n",
    "# Moore-Penrose 역행렬\n",
    "# intercept 항 추가\n",
    "X_ = np.array([np.append(x,[1]) for x in X])\n",
    "beta = np.linalg.pinv(X_) @ y\n",
    "y_test = np.append(x, [1]) @ beta\n",
    "```"
   ]
  },
  {
   "cell_type": "code",
   "execution_count": 22,
   "metadata": {},
   "outputs": [],
   "source": [
    "X = np.array([[1,-2,3],\n",
    "              [7,5,0],\n",
    "              [-2,-1,2]])"
   ]
  },
  {
   "cell_type": "markdown",
   "metadata": {},
   "source": [
    "### 역행렬 계산"
   ]
  },
  {
   "cell_type": "code",
   "execution_count": 23,
   "metadata": {},
   "outputs": [
    {
     "data": {
      "text/plain": [
       "array([[ 0.21276596,  0.0212766 , -0.31914894],\n",
       "       [-0.29787234,  0.17021277,  0.44680851],\n",
       "       [ 0.06382979,  0.10638298,  0.40425532]])"
      ]
     },
     "execution_count": 23,
     "metadata": {},
     "output_type": "execute_result"
    }
   ],
   "source": [
    "np.linalg.inv(X)"
   ]
  },
  {
   "cell_type": "code",
   "execution_count": 24,
   "metadata": {},
   "outputs": [
    {
     "data": {
      "text/plain": [
       "array([[ 1.00000000e+00, -1.38777878e-17,  0.00000000e+00],\n",
       "       [ 0.00000000e+00,  1.00000000e+00, -5.55111512e-17],\n",
       "       [-2.77555756e-17,  0.00000000e+00,  1.00000000e+00]])"
      ]
     },
     "execution_count": 24,
     "metadata": {},
     "output_type": "execute_result"
    }
   ],
   "source": [
    "X @ np.linalg.inv(X)"
   ]
  },
  {
   "cell_type": "markdown",
   "metadata": {},
   "source": [
    "### 유사 역행렬"
   ]
  },
  {
   "cell_type": "code",
   "execution_count": 25,
   "metadata": {},
   "outputs": [],
   "source": [
    "Y = np.array([[0,1],\n",
    "              [1,-1],\n",
    "              [-2,1]])"
   ]
  },
  {
   "cell_type": "code",
   "execution_count": 26,
   "metadata": {},
   "outputs": [
    {
     "data": {
      "text/plain": [
       "array([[ 5.00000000e-01, -5.55111512e-17, -5.00000000e-01],\n",
       "       [ 8.33333333e-01, -3.33333333e-01, -1.66666667e-01]])"
      ]
     },
     "execution_count": 26,
     "metadata": {},
     "output_type": "execute_result"
    }
   ],
   "source": [
    "np.linalg.pinv(Y)"
   ]
  },
  {
   "cell_type": "code",
   "execution_count": 27,
   "metadata": {},
   "outputs": [
    {
     "data": {
      "text/plain": [
       "array([[1.00000000e+00, 2.22044605e-16],\n",
       "       [0.00000000e+00, 1.00000000e+00]])"
      ]
     },
     "execution_count": 27,
     "metadata": {},
     "output_type": "execute_result"
    }
   ],
   "source": [
    "# 항등 행렬 구하기 가능\n",
    "np.linalg.pinv(Y) @ Y"
   ]
  }
 ],
 "metadata": {
  "kernelspec": {
   "display_name": "Python 3.10.4 ('ml')",
   "language": "python",
   "name": "python3"
  },
  "language_info": {
   "codemirror_mode": {
    "name": "ipython",
    "version": 3
   },
   "file_extension": ".py",
   "mimetype": "text/x-python",
   "name": "python",
   "nbconvert_exporter": "python",
   "pygments_lexer": "ipython3",
   "version": "3.10.4"
  },
  "orig_nbformat": 4,
  "vscode": {
   "interpreter": {
    "hash": "054003ddc8bb90967440df83eb0c4b5179a46b3dd7ffab730dd8d113d29b604c"
   }
  }
 },
 "nbformat": 4,
 "nbformat_minor": 2
}
